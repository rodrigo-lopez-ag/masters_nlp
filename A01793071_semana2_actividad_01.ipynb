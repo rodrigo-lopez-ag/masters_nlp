{
  "cells": [
    {
      "cell_type": "markdown",
      "metadata": {
        "id": "759SG4TyfbUn"
      },
      "source": [
        "#**Maestría en Inteligencia Artificial Aplicada**\n",
        "##**Curso: Procesamiento de Lenguaje Natural (NLP)**\n",
        "###Tecnológico de Monterrey\n",
        "###Prof Luis Eduardo Falcón Morales\n",
        "\n",
        "## **Adtividad de la Semana 02**\n",
        "###**Introducción al procesamiento de texto.**"
      ]
    },
    {
      "cell_type": "markdown",
      "metadata": {
        "id": "6ue1YAKx3XDo"
      },
      "source": [
        "En esta actividad deberás utilizar los datos del siguiente archivo que se encuentra en Canvas:\n",
        "\n",
        "MNA_NLP_semana_02_Actividad_datos.txt\n",
        "\n",
        "El archivo contiene comentarios en inglés sobre servicios de comida de la página de Yelp: https://www.yelp.com/ . \n",
        "\n",
        "Son mil comentarios y forman parte del conjunto de datos que se encuentra en el Machine Learning Repository de la UCI, llamado \"Sentiment Labelled Sentences\": https://archive.ics.uci.edu/ml/datasets/Sentiment+Labelled+Sentences#\n"
      ]
    },
    {
      "cell_type": "markdown",
      "metadata": {
        "id": "Zj-h4drXD-X9"
      },
      "source": [
        "#**Parte 1. Cargamos los datos.**   "
      ]
    },
    {
      "cell_type": "markdown",
      "metadata": {
        "id": "BY6yifxscfrx"
      },
      "source": [
        "Cargar los datos del archivo indicado y obtener una lista de longitud de 1000 strings/comentarios. \n",
        "\n",
        "Por el momento solamente requerimos las bibliotecas de Numpy y re, para el manejo de los arreglos y de las expresiones regulares en Python.\n",
        "\n",
        "En particular, no necesitarás en esta actividad la biblioteca de Pandas.\n",
        "\n",
        "###**NOTA: En esta actividad no debes importar nada más, con estas dos bibliotecas será *suficiente*.**"
      ]
    },
    {
      "cell_type": "code",
      "execution_count": 507,
      "metadata": {
        "id": "OJ26dAfhdFnf"
      },
      "outputs": [],
      "source": [
        "import numpy as np    # importamos Numpy para el manejo de los arreglos.\n",
        "import re             # importamos re para el manejo de las expresiones regulares."
      ]
    },
    {
      "cell_type": "code",
      "execution_count": 508,
      "metadata": {
        "id": "QHUmJyjDdGNP"
      },
      "outputs": [],
      "source": [
        "# Ejecuta las siguientes instrucciones para cargar la información del achivo dado:\n",
        "\n",
        "with open('MNA_NLP_semana_02_Actividad_datos.txt',        # puedes actualizar la ruta a tu archivo, en dado caso.\n",
        "          mode='r',     # abrimos el archivo en modo lectura.\n",
        "          ) as f:\n",
        "    docs = f.readlines()    # separamos cada comentario por líneas\n",
        "\n",
        "f.close()  # ya que tenemos la información en la variable docs, cerramos el archivo"
      ]
    },
    {
      "cell_type": "code",
      "execution_count": 462,
      "metadata": {
        "colab": {
          "base_uri": "https://localhost:8080/"
        },
        "id": "L6WzrSrodG-Y",
        "outputId": "ee426a60-1495-4d8f-f5ac-5cef429135ab"
      },
      "outputs": [
        {
          "data": {
            "text/plain": [
              "True"
            ]
          },
          "execution_count": 462,
          "metadata": {},
          "output_type": "execute_result"
        }
      ],
      "source": [
        "type(docs) == list   # Verifica que tu variable \"docs\" es una lista"
      ]
    },
    {
      "cell_type": "code",
      "execution_count": 463,
      "metadata": {
        "colab": {
          "base_uri": "https://localhost:8080/"
        },
        "id": "QIK1u9WS2FtS",
        "outputId": "f5d89fd4-520f-4d3f-f6d7-be128ac60a81"
      },
      "outputs": [
        {
          "data": {
            "text/plain": [
              "True"
            ]
          },
          "execution_count": 463,
          "metadata": {},
          "output_type": "execute_result"
        }
      ],
      "source": [
        "len(docs)==1000  # verifica que la longitud de \"docs\" es de mil comentarios."
      ]
    },
    {
      "cell_type": "code",
      "execution_count": 464,
      "metadata": {
        "colab": {
          "base_uri": "https://localhost:8080/"
        },
        "id": "9AMLIfQvJqNZ",
        "outputId": "66d14a1d-0e10-446d-d06d-8cdb8a505af8"
      },
      "outputs": [
        {
          "data": {
            "text/plain": [
              "['Wow... Loved this place.\\n',\n",
              " 'Crust is not good.\\n',\n",
              " 'Not tasty and the texture was just nasty.\\n',\n",
              " 'Stopped by during the late May bank holiday off Rick Steve recommendation and loved it.\\n',\n",
              " 'The selection on the menu was great and so were the prices.\\n',\n",
              " 'Now I am getting angry and I want my damn pho.\\n',\n",
              " \"Honeslty it didn't taste THAT fresh.)\\n\",\n",
              " 'The potatoes were like rubber and you could tell they had been made up ahead of time being kept under a warmer.\\n',\n",
              " 'The fries were great too.\\n',\n",
              " 'A great touch.\\n']"
            ]
          },
          "execution_count": 464,
          "metadata": {},
          "output_type": "execute_result"
        }
      ],
      "source": [
        "docs[0:10]     # observa algunos de los primeros comentarios"
      ]
    },
    {
      "cell_type": "markdown",
      "metadata": {
        "id": "k_ewoagic5jc"
      },
      "source": [
        "#**Parte 2: sección de preguntas (regex).**   \n"
      ]
    },
    {
      "cell_type": "markdown",
      "metadata": {
        "id": "X-eMJa3DFCIV"
      },
      "source": [
        "##**Instrucciones:**\n",
        "\n",
        "###**A continuación deberás contestar cada una de las preguntas que te piden usando expresiones regulares (regex).**\n",
        "\n",
        "###**Por el momento no hay restricción en cuanto al número de líneas de código que agregues, pero trata de incluir las mínimas posibles.**"
      ]
    },
    {
      "cell_type": "markdown",
      "metadata": {
        "id": "78nJMemzn5a5"
      },
      "source": [
        "*   **Pregunta 1.** \n",
        "\n",
        "Busca y elimina todos los saltos de línea '\\n' que se encuentran al final de cada comentario. \n",
        "\n",
        "Una vez finalizado, imprime los primeros 10 comentarios del resultado obtenido.\n"
      ]
    },
    {
      "cell_type": "code",
      "execution_count": 465,
      "metadata": {
        "id": "PwbYYIuZn8pE"
      },
      "outputs": [],
      "source": [
        "docsBk = docs"
      ]
    },
    {
      "cell_type": "code",
      "execution_count": 509,
      "metadata": {
        "id": "KMvndNaf5JqX"
      },
      "outputs": [],
      "source": [
        "docs1 = [s.replace(\"\\n\", \"\") for s in docs]"
      ]
    },
    {
      "cell_type": "code",
      "execution_count": 467,
      "metadata": {
        "colab": {
          "base_uri": "https://localhost:8080/"
        },
        "id": "2Lyy_cbL6NJW",
        "outputId": "e77a0103-2ad5-41e4-c6e6-87568847b701"
      },
      "outputs": [
        {
          "data": {
            "text/plain": [
              "['Wow... Loved this place.',\n",
              " 'Crust is not good.',\n",
              " 'Not tasty and the texture was just nasty.',\n",
              " 'Stopped by during the late May bank holiday off Rick Steve recommendation and loved it.',\n",
              " 'The selection on the menu was great and so were the prices.',\n",
              " 'Now I am getting angry and I want my damn pho.',\n",
              " \"Honeslty it didn't taste THAT fresh.)\",\n",
              " 'The potatoes were like rubber and you could tell they had been made up ahead of time being kept under a warmer.',\n",
              " 'The fries were great too.',\n",
              " 'A great touch.']"
            ]
          },
          "execution_count": 467,
          "metadata": {},
          "output_type": "execute_result"
        }
      ],
      "source": [
        "docs1[0:10]"
      ]
    },
    {
      "cell_type": "markdown",
      "metadata": {
        "id": "VWeKQC93ctEo"
      },
      "source": [
        "*   **Pregunta 2.**  \n",
        "\n",
        "Busca e imprime todas las palabras que terminan con dos o más signos de admiración seguidos, por ejemplo \"!!!\". \n",
        "\n",
        "Debes imprimir tanto la palabra como la totalidad de signos de admiración que le siguen. \n",
        "\n",
        "Indica cuántos resultados obtuviste.\n",
        "\n"
      ]
    },
    {
      "cell_type": "code",
      "execution_count": 514,
      "metadata": {
        "colab": {
          "base_uri": "https://localhost:8080/"
        },
        "id": "0p3kMXfddICc",
        "outputId": "d5bc16b4-53ee-4a44-b023-81edc9024145"
      },
      "outputs": [
        {
          "data": {
            "text/plain": [
              "['Firehouse!!!!!',\n",
              " 'APPETIZERS!!!',\n",
              " 'amazing!!!',\n",
              " 'buffet!!!',\n",
              " 'good!!',\n",
              " 'it!!!!',\n",
              " 'DELICIOUS!!',\n",
              " 'amazing!!',\n",
              " 'shawarrrrrrma!!!!!!',\n",
              " 'yucky!!!',\n",
              " 'delicious!!!',\n",
              " 'far!!',\n",
              " 'biscuits!!!',\n",
              " 'disappointing!!!',\n",
              " '!!!',\n",
              " 'awesome!!',\n",
              " 'Up!!',\n",
              " 'FLY!!!!!!!!',\n",
              " 'great!!!!!!!!!!!!!!',\n",
              " 'packed!!',\n",
              " 'amazing!!!!!!!!!!!!!!!!!!!',\n",
              " 'style!!',\n",
              " 'disappointed!!']"
            ]
          },
          "execution_count": 514,
          "metadata": {},
          "output_type": "execute_result"
        }
      ],
      "source": [
        "[words for sentences in docs1 for words in sentences.split() if re.search('!!$', words)]"
      ]
    },
    {
      "cell_type": "code",
      "execution_count": 513,
      "metadata": {
        "colab": {
          "base_uri": "https://localhost:8080/"
        },
        "id": "SPVM1MCWdH6Z",
        "outputId": "bfa3a538-d732-4432-eb42-dd6c29758fc0"
      },
      "outputs": [
        {
          "data": {
            "text/plain": [
              "23"
            ]
          },
          "execution_count": 513,
          "metadata": {},
          "output_type": "execute_result"
        }
      ],
      "source": [
        "len([words for sentences in docs1 for words in sentences.split() if re.search('!!$', words)])"
      ]
    },
    {
      "cell_type": "markdown",
      "metadata": {
        "id": "-s3okBqL96TT"
      },
      "source": [
        "*   **Pregunta 3.**  \n",
        "\n",
        "Busca e imprime todas las palabras que están escritas totalmente en mayúsculas. Cada coincidencia debe ser una sola palabra.\n",
        "\n",
        "Indica cuántas palabras encontraste.\n",
        "\n"
      ]
    },
    {
      "cell_type": "code",
      "execution_count": 470,
      "metadata": {
        "colab": {
          "base_uri": "https://localhost:8080/"
        },
        "id": "yKHJkZKo_nW5",
        "outputId": "c00b503f-9307-4ace-d22e-fb9f30f49b93"
      },
      "outputs": [
        {
          "data": {
            "text/plain": [
              "['I',\n",
              " 'I',\n",
              " 'THAT',\n",
              " 'A',\n",
              " 'I',\n",
              " '\"I',\n",
              " 'I',\n",
              " 'I',\n",
              " 'I',\n",
              " 'I',\n",
              " 'I',\n",
              " 'I',\n",
              " 'I',\n",
              " 'I',\n",
              " 'I',\n",
              " 'I',\n",
              " 'APPETIZERS!!!',\n",
              " 'A',\n",
              " '\"I',\n",
              " 'I',\n",
              " 'I',\n",
              " 'I',\n",
              " 'I',\n",
              " 'I',\n",
              " 'WILL',\n",
              " 'NEVER',\n",
              " 'EVER',\n",
              " 'STEP',\n",
              " 'FORWARD',\n",
              " 'IN',\n",
              " 'IT',\n",
              " 'AGAIN!\"',\n",
              " '\"I',\n",
              " 'LOVED',\n",
              " 'I',\n",
              " 'AND',\n",
              " '\"REAL',\n",
              " 'I',\n",
              " 'I',\n",
              " 'I',\n",
              " 'BITCHES!\"',\n",
              " 'I',\n",
              " 'I',\n",
              " 'NYC',\n",
              " 'I',\n",
              " 'I',\n",
              " 'I',\n",
              " 'I',\n",
              " 'I',\n",
              " 'I',\n",
              " 'STALE.\"',\n",
              " 'I',\n",
              " 'I',\n",
              " 'DELICIOUS!!',\n",
              " 'I',\n",
              " 'I',\n",
              " 'I',\n",
              " 'I',\n",
              " 'I',\n",
              " 'I',\n",
              " '\"I',\n",
              " '\"I',\n",
              " 'I',\n",
              " 'WORST',\n",
              " 'EXPERIENCE',\n",
              " 'EVER.',\n",
              " 'I',\n",
              " 'ALL',\n",
              " 'I',\n",
              " 'BARGAIN!',\n",
              " 'I',\n",
              " 'NONE',\n",
              " 'FREEZING',\n",
              " 'AYCE',\n",
              " 'I',\n",
              " 'I',\n",
              " 'I',\n",
              " 'I',\n",
              " 'I',\n",
              " 'I',\n",
              " 'I',\n",
              " 'I',\n",
              " '\"I',\n",
              " 'I',\n",
              " 'I',\n",
              " 'I',\n",
              " 'FLAVOR!',\n",
              " 'I',\n",
              " 'I',\n",
              " 'I',\n",
              " 'I',\n",
              " 'I',\n",
              " 'I',\n",
              " 'I',\n",
              " '\"I',\n",
              " 'I',\n",
              " '\"I',\n",
              " 'I',\n",
              " 'I',\n",
              " 'I',\n",
              " 'I',\n",
              " 'I',\n",
              " 'I',\n",
              " 'I',\n",
              " 'I',\n",
              " 'NEVER',\n",
              " 'I',\n",
              " 'I',\n",
              " 'I',\n",
              " 'BBQ,',\n",
              " '\"A',\n",
              " 'I',\n",
              " 'UNREAL!',\n",
              " '\"I',\n",
              " 'I',\n",
              " 'I',\n",
              " 'I',\n",
              " 'I',\n",
              " '\"OMG,',\n",
              " 'BETTER.\"',\n",
              " '\"I',\n",
              " 'BLAND.',\n",
              " 'I',\n",
              " 'I',\n",
              " '\"I',\n",
              " 'I',\n",
              " 'I',\n",
              " 'I',\n",
              " 'RUDE',\n",
              " 'INCONSIDERATE',\n",
              " 'MANAGEMENT.',\n",
              " 'I',\n",
              " 'I',\n",
              " 'WILL',\n",
              " 'NEVER',\n",
              " 'EVER',\n",
              " 'GO',\n",
              " 'BACK',\n",
              " 'AND',\n",
              " 'HAVE',\n",
              " 'TOLD',\n",
              " 'MANY',\n",
              " 'PEOPLE',\n",
              " 'WHAT',\n",
              " 'HAD',\n",
              " 'HAPPENED.',\n",
              " 'I',\n",
              " 'I',\n",
              " 'I',\n",
              " '\"I',\n",
              " 'I',\n",
              " 'I',\n",
              " 'I',\n",
              " 'I',\n",
              " 'I',\n",
              " 'TOTAL',\n",
              " 'WASTE',\n",
              " 'OF',\n",
              " 'TIME.',\n",
              " 'I',\n",
              " 'I',\n",
              " 'I',\n",
              " 'I',\n",
              " 'I',\n",
              " 'I',\n",
              " 'I',\n",
              " 'I',\n",
              " 'I',\n",
              " 'I',\n",
              " 'I',\n",
              " 'FS',\n",
              " 'I',\n",
              " 'I',\n",
              " 'I',\n",
              " 'I',\n",
              " 'I',\n",
              " 'I',\n",
              " 'I',\n",
              " 'I',\n",
              " 'I',\n",
              " 'AZ',\n",
              " 'I',\n",
              " 'I',\n",
              " 'I',\n",
              " 'LOVED',\n",
              " 'I',\n",
              " 'I',\n",
              " 'I',\n",
              " 'I',\n",
              " 'I',\n",
              " 'CONCLUSION:',\n",
              " '\"I',\n",
              " 'I',\n",
              " 'I',\n",
              " '\"I',\n",
              " 'I',\n",
              " 'BEST',\n",
              " 'I',\n",
              " 'GO',\n",
              " 'NOW!',\n",
              " '\"A',\n",
              " 'I',\n",
              " 'I',\n",
              " 'GC.',\n",
              " 'I',\n",
              " 'I',\n",
              " 'I',\n",
              " 'I',\n",
              " 'I',\n",
              " 'I',\n",
              " '\"I',\n",
              " 'I',\n",
              " 'I',\n",
              " '\"I',\n",
              " 'AVOID',\n",
              " 'THIS',\n",
              " 'ESTABLISHMENT!',\n",
              " 'I',\n",
              " 'I',\n",
              " 'I',\n",
              " 'A',\n",
              " 'I',\n",
              " 'I',\n",
              " 'AN',\n",
              " 'HOUR...',\n",
              " 'I',\n",
              " 'I',\n",
              " 'I',\n",
              " 'I',\n",
              " 'I',\n",
              " 'I',\n",
              " 'NASTY!',\n",
              " 'OMG',\n",
              " 'I',\n",
              " 'I',\n",
              " 'NO',\n",
              " 'I',\n",
              " 'I',\n",
              " 'I',\n",
              " 'BEST',\n",
              " 'I',\n",
              " 'I',\n",
              " 'I',\n",
              " 'I',\n",
              " '!....THE',\n",
              " 'OWNERS',\n",
              " 'REALLY',\n",
              " 'REALLY',\n",
              " 'I',\n",
              " 'I',\n",
              " 'I',\n",
              " 'I',\n",
              " 'I',\n",
              " 'I',\n",
              " 'I',\n",
              " 'I',\n",
              " 'I',\n",
              " '\"I',\n",
              " 'I',\n",
              " 'PERFECT',\n",
              " 'SCREAMS',\n",
              " '\"\"LEGIT\"\"',\n",
              " '\"I',\n",
              " 'MGM!\"',\n",
              " 'I',\n",
              " 'I',\n",
              " 'I',\n",
              " 'A',\n",
              " 'I',\n",
              " 'I',\n",
              " '\"I',\n",
              " '\"I',\n",
              " 'I',\n",
              " 'I',\n",
              " 'I',\n",
              " '\"I',\n",
              " '\"I',\n",
              " 'BEST',\n",
              " 'I',\n",
              " 'I',\n",
              " 'T.',\n",
              " 'A',\n",
              " 'FLY',\n",
              " 'A',\n",
              " 'FLY!!!!!!!!',\n",
              " 'I',\n",
              " 'I',\n",
              " 'I',\n",
              " 'I',\n",
              " 'I',\n",
              " 'I',\n",
              " 'I',\n",
              " '\"I',\n",
              " '\"I',\n",
              " '\"I',\n",
              " 'FANTASTIC!',\n",
              " 'I',\n",
              " 'I',\n",
              " 'GREAT',\n",
              " 'OK,',\n",
              " 'I',\n",
              " 'WAY',\n",
              " 'I',\n",
              " 'MUST',\n",
              " 'HAVE!',\n",
              " '\"I',\n",
              " 'I',\n",
              " 'I',\n",
              " '\"I',\n",
              " 'I',\n",
              " 'OK',\n",
              " 'I',\n",
              " 'I',\n",
              " 'I',\n",
              " 'I',\n",
              " 'OVERPRICED!\"',\n",
              " 'I',\n",
              " 'I',\n",
              " 'I',\n",
              " 'I',\n",
              " 'I',\n",
              " 'I',\n",
              " '\"I',\n",
              " 'I',\n",
              " 'I',\n",
              " 'I',\n",
              " 'I',\n",
              " 'I',\n",
              " 'I',\n",
              " '\"I',\n",
              " 'I',\n",
              " 'I',\n",
              " 'I',\n",
              " 'I',\n",
              " 'I',\n",
              " 'I',\n",
              " 'I',\n",
              " 'BARE',\n",
              " 'HANDS,',\n",
              " 'I',\n",
              " '\"I',\n",
              " '\"I',\n",
              " 'I',\n",
              " 'I',\n",
              " 'I',\n",
              " 'I',\n",
              " 'I',\n",
              " 'I',\n",
              " 'I',\n",
              " '\"I',\n",
              " 'I',\n",
              " 'WEAK,',\n",
              " 'I',\n",
              " 'I',\n",
              " 'I',\n",
              " 'I',\n",
              " 'I',\n",
              " 'I',\n",
              " 'I',\n",
              " 'SHOULD',\n",
              " 'I',\n",
              " 'I',\n",
              " 'I',\n",
              " 'RI',\n",
              " '\"I',\n",
              " 'I',\n",
              " 'I',\n",
              " 'I',\n",
              " 'I',\n",
              " 'I',\n",
              " 'I',\n",
              " 'VERY',\n",
              " 'I',\n",
              " 'I',\n",
              " 'NOT',\n",
              " 'I',\n",
              " 'I',\n",
              " '\"I',\n",
              " 'I',\n",
              " 'I',\n",
              " 'I',\n",
              " 'I',\n",
              " 'I',\n",
              " 'I',\n",
              " 'I',\n",
              " '\"I',\n",
              " '\"I',\n",
              " 'I',\n",
              " 'I',\n",
              " 'I',\n",
              " 'I',\n",
              " '(I',\n",
              " 'I',\n",
              " 'A',\n",
              " 'I',\n",
              " 'I',\n",
              " 'I',\n",
              " 'I',\n",
              " 'I',\n",
              " 'I']"
            ]
          },
          "execution_count": 470,
          "metadata": {},
          "output_type": "execute_result"
        }
      ],
      "source": [
        "[words for sentences in docs1 for words in sentences.split() if words.isupper()]"
      ]
    },
    {
      "cell_type": "code",
      "execution_count": 471,
      "metadata": {
        "colab": {
          "base_uri": "https://localhost:8080/"
        },
        "id": "L3q08aq69sNn",
        "outputId": "f12688be-d157-4363-8163-916b3a4ab4f1"
      },
      "outputs": [
        {
          "data": {
            "text/plain": [
              "400"
            ]
          },
          "execution_count": 471,
          "metadata": {},
          "output_type": "execute_result"
        }
      ],
      "source": [
        "len([words for sentences in docs1 for words in sentences.split() if words.isupper()])"
      ]
    },
    {
      "cell_type": "markdown",
      "metadata": {
        "id": "GX8eYyDoMZma"
      },
      "source": [
        "*   **Pregunta 4.**  \n",
        "\n",
        "Busca e imprime los comentarios en donde todos los caracteres alfabéticos (letras) están en mayúsculas. \n",
        "\n",
        "Cada coincidencia encontrada debe ser todo el comentario/enunciado.\n",
        "\n",
        "Indica cuántos resultados obtuviste.\n"
      ]
    },
    {
      "cell_type": "code",
      "execution_count": 516,
      "metadata": {
        "colab": {
          "base_uri": "https://localhost:8080/"
        },
        "id": "K8VuZxvTMYj6",
        "outputId": "8bb9dd05-8901-4d70-e45d-ab27c779b992"
      },
      "outputs": [
        {
          "data": {
            "text/plain": [
              "['DELICIOUS!!',\n",
              " 'RUDE & INCONSIDERATE MANAGEMENT.',\n",
              " 'WILL NEVER EVER GO BACK AND HAVE TOLD MANY PEOPLE WHAT HAD HAPPENED.',\n",
              " 'TOTAL WASTE OF TIME.',\n",
              " 'AVOID THIS ESTABLISHMENT!']"
            ]
          },
          "execution_count": 516,
          "metadata": {},
          "output_type": "execute_result"
        }
      ],
      "source": [
        "[w for w in docs1 if w == w.upper()]"
      ]
    },
    {
      "cell_type": "code",
      "execution_count": 473,
      "metadata": {
        "colab": {
          "base_uri": "https://localhost:8080/"
        },
        "id": "PmKgX7sCMcDx",
        "outputId": "ae09a3b0-1d1c-4301-b67a-94cbee35c4bd"
      },
      "outputs": [
        {
          "data": {
            "text/plain": [
              "5"
            ]
          },
          "execution_count": 473,
          "metadata": {},
          "output_type": "execute_result"
        }
      ],
      "source": [
        "len([w for w in docs1 if w == w.upper()])"
      ]
    },
    {
      "cell_type": "markdown",
      "metadata": {
        "id": "a1i6qv7-McmU"
      },
      "source": [
        "*   **Pregunta 5.**  \n",
        "\n",
        "Busca e imprime todas las palabras que tengan una vocal acentuada, del tipo á, é, í, ó, ú. \n",
        "\n",
        "Indica cuántos resultados obtuviste."
      ]
    },
    {
      "cell_type": "code",
      "execution_count": 474,
      "metadata": {
        "colab": {
          "base_uri": "https://localhost:8080/"
        },
        "id": "nZZ5zKUOMeGD",
        "outputId": "3166365b-8c8a-4e71-d073-204c76139018"
      },
      "outputs": [
        {
          "data": {
            "text/plain": [
              "['fiancé', 'Café', 'puréed.']"
            ]
          },
          "execution_count": 474,
          "metadata": {},
          "output_type": "execute_result"
        }
      ],
      "source": [
        "accents = ['\\u00E1', '\\u00E9', '\\u00ED', '\\u00F3', '\\u00FA']\n",
        "\n",
        "[words for sentences in docs1 for words in sentences.split() for accent in accents if accent in words]"
      ]
    },
    {
      "cell_type": "code",
      "execution_count": 475,
      "metadata": {
        "colab": {
          "base_uri": "https://localhost:8080/"
        },
        "id": "l1mFvUEZMe8s",
        "outputId": "99e862a6-2f92-492b-8ec6-60bacd910ffe"
      },
      "outputs": [
        {
          "data": {
            "text/plain": [
              "3"
            ]
          },
          "execution_count": 475,
          "metadata": {},
          "output_type": "execute_result"
        }
      ],
      "source": [
        "len([words for sentences in docs1 for words in sentences.split() for accent in accents if accent in words])"
      ]
    },
    {
      "cell_type": "markdown",
      "metadata": {
        "id": "ZmPiAI82Mfb3"
      },
      "source": [
        "*   **Pregunta 6.**  \n",
        "\n",
        "Busca e imprime todas las cantidades numéricas monetarias, enteras o con decimales, que inician con el símbolo $\\$$. \n",
        "\n",
        "Indica cuántos resultados obtuviste."
      ]
    },
    {
      "cell_type": "code",
      "execution_count": 476,
      "metadata": {
        "colab": {
          "base_uri": "https://localhost:8080/"
        },
        "id": "6vhe9-Y-MhL9",
        "outputId": "4b33eb67-0ae1-4f73-dc32-05c913761681"
      },
      "outputs": [
        {
          "data": {
            "text/plain": [
              "['$20,', '$4.00.\"', '$17', '$3', '$35', '$7.85', '$12,', '$11.99']"
            ]
          },
          "execution_count": 476,
          "metadata": {},
          "output_type": "execute_result"
        }
      ],
      "source": [
        "[words for sentences in docs1 for words in sentences.split() if re.search('^\\$', words)]"
      ]
    },
    {
      "cell_type": "code",
      "execution_count": 477,
      "metadata": {
        "colab": {
          "base_uri": "https://localhost:8080/"
        },
        "id": "_t0a5xWDMhQ5",
        "outputId": "96154ce4-7dc6-4ed5-c64a-fcd2301ff971"
      },
      "outputs": [
        {
          "data": {
            "text/plain": [
              "8"
            ]
          },
          "execution_count": 477,
          "metadata": {},
          "output_type": "execute_result"
        }
      ],
      "source": [
        "len([words for sentences in docs1 for words in sentences.split() if re.search('^\\$', words)])"
      ]
    },
    {
      "cell_type": "markdown",
      "metadata": {
        "id": "2j-HpvhwMhq2"
      },
      "source": [
        "*   **Pregunta 7.**  \n",
        "\n",
        "Busca e imprime todas las palabras que sean variantes de la palabra \"love\", sin importar si incluyen mayúsculas o minúsculas, o la manera en que esté conjugada o alguna otra variación que se haga con dicha palabra.\n",
        "\n",
        "Indica cuántos resultados obtuviste."
      ]
    },
    {
      "cell_type": "code",
      "execution_count": 478,
      "metadata": {
        "colab": {
          "base_uri": "https://localhost:8080/"
        },
        "id": "kqqyRChVMjol",
        "outputId": "73dc4f0f-daf2-4b0c-9399-d2edeb235456"
      },
      "outputs": [
        {
          "data": {
            "text/plain": [
              "['Loved',\n",
              " 'loved',\n",
              " 'love',\n",
              " 'loves',\n",
              " 'LOVED',\n",
              " 'lovers,',\n",
              " 'loving',\n",
              " 'love',\n",
              " 'lovers!\"',\n",
              " 'loved',\n",
              " 'loved',\n",
              " 'love',\n",
              " 'love',\n",
              " 'love',\n",
              " 'loved',\n",
              " 'love',\n",
              " 'loved',\n",
              " 'LOVED',\n",
              " 'love',\n",
              " 'lovely',\n",
              " 'love',\n",
              " 'lovely',\n",
              " 'love',\n",
              " 'lover',\n",
              " 'loved',\n",
              " 'love',\n",
              " 'love',\n",
              " 'love',\n",
              " 'love',\n",
              " 'love',\n",
              " 'love',\n",
              " 'love.',\n",
              " 'love']"
            ]
          },
          "execution_count": 478,
          "metadata": {},
          "output_type": "execute_result"
        }
      ],
      "source": [
        "[words for sentences in docs1 for words in sentences.split() if re.search('^[Ll]+[Oo]+[Vv]', words)]"
      ]
    },
    {
      "cell_type": "code",
      "execution_count": 479,
      "metadata": {
        "colab": {
          "base_uri": "https://localhost:8080/"
        },
        "id": "UXd0VQluMj_x",
        "outputId": "3ca09b96-d5b2-43c7-a5d0-6ec478386d7a"
      },
      "outputs": [
        {
          "data": {
            "text/plain": [
              "33"
            ]
          },
          "execution_count": 479,
          "metadata": {},
          "output_type": "execute_result"
        }
      ],
      "source": [
        "len([words for sentences in docs1 for words in sentences.split() if re.search('^[Ll]+[Oo]+[Vv]', words)])"
      ]
    },
    {
      "cell_type": "markdown",
      "metadata": {
        "id": "Ctb-NTY3MkYG"
      },
      "source": [
        "*   **Pregunta 8.**  \n",
        "\n",
        "Busca e imprime todas las palabras, variantes de \"so\" y \"good\", que tengan dos o más \"o\" en \"so\" y 3 o más \"o\" en good. \n",
        "\n",
        "Indica cuántas encontraste.\n"
      ]
    },
    {
      "cell_type": "code",
      "execution_count": 480,
      "metadata": {
        "colab": {
          "base_uri": "https://localhost:8080/"
        },
        "id": "A8Nf3B_cMlqg",
        "outputId": "611a0657-1d30-49bf-8646-7d77bc367d67"
      },
      "outputs": [
        {
          "data": {
            "text/plain": [
              "['Sooooo', 'soooo', 'gooodd.', 'soooooo', 'soooo']"
            ]
          },
          "execution_count": 480,
          "metadata": {},
          "output_type": "execute_result"
        }
      ],
      "source": [
        "[words for sentences in docs1 for words in sentences.split() if re.search('^[Ss]+[Oo]{2,}$', words) or re.search('^[Gg]+[Oo]{3,}[Dd]', words)]"
      ]
    },
    {
      "cell_type": "code",
      "execution_count": 481,
      "metadata": {
        "colab": {
          "base_uri": "https://localhost:8080/"
        },
        "id": "svS4-vvPMl6f",
        "outputId": "243e2fb2-6e09-4d45-f456-a726eefd2643"
      },
      "outputs": [
        {
          "data": {
            "text/plain": [
              "5"
            ]
          },
          "execution_count": 481,
          "metadata": {},
          "output_type": "execute_result"
        }
      ],
      "source": [
        "len([words for sentences in docs1 for words in sentences.split() if re.search('^[Ss]+[Oo]{2,}$', words) or re.search('^[Gg]+[Oo]{3,}[Dd]', words)])"
      ]
    },
    {
      "cell_type": "markdown",
      "metadata": {
        "id": "hkak1opjMmlk"
      },
      "source": [
        "*   **Pregunta 9.**  \n",
        "\n",
        "Busca e imprime todas las palabras que tengan una longitud mayor estrictamente a 10 caracteres alfabéticos.\n",
        "\n",
        "No se consideran los signos de puntuación o caracteres especiales en la longitud de estas cadenas, solo caracteres alfabéticos en mayúsculas o minúsculas.\n",
        "\n",
        "Indica la cantidad de palabras encontradas.\n"
      ]
    },
    {
      "cell_type": "code",
      "execution_count": 482,
      "metadata": {
        "id": "I4rw5tfwX316"
      },
      "outputs": [],
      "source": [
        "signs = ['.', ',', '!', '?', ';', ':', '-', '(', ')', '[', ']', '{', '}', \"'\", '\"', '/']\n",
        "\n",
        "def is_punctuation(char):\n",
        "  return char in signs\n",
        "\n",
        "def has_punctuation(word):\n",
        "  for char in word:\n",
        "    if is_punctuation(char):\n",
        "      return True\n",
        "  return False"
      ]
    },
    {
      "cell_type": "code",
      "execution_count": 483,
      "metadata": {
        "colab": {
          "base_uri": "https://localhost:8080/"
        },
        "id": "PYxdp3uhMoD0",
        "outputId": "36c0afdb-e9ce-4bb9-810e-88c9270b3dbe"
      },
      "outputs": [
        {
          "data": {
            "text/plain": [
              "['recommendation',\n",
              " 'establishment',\n",
              " 'imaginative',\n",
              " 'opportunity',\n",
              " 'experiencing',\n",
              " 'underwhelming',\n",
              " 'relationship',\n",
              " 'disappointing',\n",
              " 'outrageously',\n",
              " 'restaurants',\n",
              " 'disappointed',\n",
              " 'considering',\n",
              " 'ingredients',\n",
              " 'accommodations',\n",
              " 'maintaining',\n",
              " 'Interesting',\n",
              " 'unbelievable',\n",
              " 'cheeseburger',\n",
              " 'descriptions',\n",
              " 'Veggitarian',\n",
              " 'recommendation',\n",
              " 'disappointed',\n",
              " 'neighborhood',\n",
              " 'disappointed',\n",
              " 'corporation',\n",
              " 'considering',\n",
              " 'exceptional',\n",
              " 'vinaigrette',\n",
              " 'immediately',\n",
              " 'unbelievably',\n",
              " 'replenished',\n",
              " 'enthusiastic',\n",
              " 'Outstanding',\n",
              " 'interesting',\n",
              " 'INCONSIDERATE',\n",
              " 'considering',\n",
              " 'disappointed',\n",
              " 'overwhelmed',\n",
              " 'professional',\n",
              " 'combination',\n",
              " 'connoisseur',\n",
              " 'profiterole',\n",
              " 'outstanding',\n",
              " 'ventilation',\n",
              " 'extraordinary',\n",
              " 'cheesecurds',\n",
              " 'experienced',\n",
              " 'opportunity',\n",
              " 'restaurants',\n",
              " 'recommended',\n",
              " 'presentation',\n",
              " 'grandmother',\n",
              " 'drastically',\n",
              " 'Disappointed',\n",
              " 'Smashburger',\n",
              " 'neighborhood',\n",
              " 'hospitality',\n",
              " 'recommending',\n",
              " 'disappointed',\n",
              " 'deliciously',\n",
              " 'compliments',\n",
              " 'recommendation',\n",
              " 'establishment',\n",
              " 'calligraphy',\n",
              " 'traditional',\n",
              " 'combination',\n",
              " 'Wienerschnitzel',\n",
              " 'unfortunately',\n",
              " 'considering',\n",
              " 'highlighted',\n",
              " 'Mediterranean',\n",
              " 'unprofessional',\n",
              " 'disappointing',\n",
              " 'unexperienced',\n",
              " 'professional',\n",
              " 'restaurants',\n",
              " 'Disappointing',\n",
              " 'WAAAAAAyyyyyyyyyy',\n",
              " 'disappointment',\n",
              " 'disappointment',\n",
              " 'disappointed',\n",
              " 'immediately',\n",
              " 'disapppointment',\n",
              " 'circumstances',\n",
              " 'caterpillar',\n",
              " 'presentation',\n",
              " 'disappointed']"
            ]
          },
          "execution_count": 483,
          "metadata": {},
          "output_type": "execute_result"
        }
      ],
      "source": [
        "[words for sentences in docs1 for words in sentences.split() if not has_punctuation(words) and len(words) > 10]"
      ]
    },
    {
      "cell_type": "code",
      "execution_count": 484,
      "metadata": {
        "colab": {
          "base_uri": "https://localhost:8080/"
        },
        "id": "BR7e2F4FMof-",
        "outputId": "6263518e-f195-4587-b03c-efb0e3e6e889"
      },
      "outputs": [
        {
          "data": {
            "text/plain": [
              "87"
            ]
          },
          "execution_count": 484,
          "metadata": {},
          "output_type": "execute_result"
        }
      ],
      "source": [
        "len([words for sentences in docs1 for words in sentences.split() if not has_punctuation(words) and len(words) > 10])"
      ]
    },
    {
      "cell_type": "markdown",
      "metadata": {
        "id": "ApjTNzSxMpDc"
      },
      "source": [
        "*   **Pregunta 10.**  \n",
        "\n",
        "Busca e imprime todas las palabras que inician con una letra mayúscula y terminan con una minúscula, pero que además no sea la primera palabra del comentario/string. \n",
        "\n",
        "Indica la cantidad de resultados obtenidos."
      ]
    },
    {
      "cell_type": "code",
      "execution_count": 485,
      "metadata": {
        "colab": {
          "base_uri": "https://localhost:8080/"
        },
        "id": "Vb0ndRGAMqdL",
        "outputId": "bc0bffdf-1945-4942-8bc0-8cffa8c31efe"
      },
      "outputs": [
        {
          "data": {
            "text/plain": [
              "['Loved',\n",
              " 'May',\n",
              " 'Rick',\n",
              " 'Steve',\n",
              " 'Cape',\n",
              " 'Cod',\n",
              " 'Burrittos',\n",
              " 'The',\n",
              " 'They',\n",
              " 'Mexican',\n",
              " 'Luke',\n",
              " 'Our',\n",
              " 'Hiro',\n",
              " 'Greek',\n",
              " 'Greek',\n",
              " 'Heart',\n",
              " 'Attack',\n",
              " 'Grill',\n",
              " 'Vegas',\n",
              " 'Dos',\n",
              " 'Jeff',\n",
              " 'Very',\n",
              " 'Bad',\n",
              " 'Customer',\n",
              " 'Service',\n",
              " 'Vegas',\n",
              " 'Rice',\n",
              " 'Pho',\n",
              " 'Hard',\n",
              " 'Rock',\n",
              " 'Casino',\n",
              " 'Buffet',\n",
              " 'Tigerlilly',\n",
              " 'Yama',\n",
              " 'Thai',\n",
              " 'Indian',\n",
              " 'Not',\n",
              " 'Lox',\n",
              " 'Subway',\n",
              " 'Mandalay',\n",
              " 'Great',\n",
              " 'Voodoo',\n",
              " 'Phoenix',\n",
              " 'Vegas',\n",
              " 'Khao',\n",
              " 'Soi',\n",
              " 'Lemon',\n",
              " 'Valley',\n",
              " 'Phoenix',\n",
              " 'Fridays',\n",
              " 'Jamaican',\n",
              " 'Bussell',\n",
              " 'Filet',\n",
              " 'Otto',\n",
              " 'Not',\n",
              " 'Greek',\n",
              " 'Veggitarian',\n",
              " 'Madison',\n",
              " 'Jenni',\n",
              " 'Bachi',\n",
              " 'Burger',\n",
              " 'Pizza',\n",
              " 'They',\n",
              " 'Bachi',\n",
              " 'English',\n",
              " 'Pizza',\n",
              " 'Hut',\n",
              " 'Seat',\n",
              " 'Gordon',\n",
              " 'Steak',\n",
              " 'Outstanding',\n",
              " 'Best',\n",
              " 'Food',\n",
              " 'Lobster',\n",
              " 'Bisque',\n",
              " 'Eggplant',\n",
              " 'Green',\n",
              " 'Bean',\n",
              " 'Vegas',\n",
              " 'Vegas',\n",
              " 'Crystals',\n",
              " 'Ians',\n",
              " 'San',\n",
              " 'Francisco',\n",
              " 'Bay',\n",
              " 'Buldogis',\n",
              " 'Gourmet',\n",
              " 'Hot',\n",
              " 'Dog',\n",
              " 'Steiners',\n",
              " 'Vegas',\n",
              " 'Camelback',\n",
              " 'Flower',\n",
              " 'Shop',\n",
              " 'Cartel',\n",
              " 'Las',\n",
              " 'Very',\n",
              " 'Vegas',\n",
              " 'Mexican',\n",
              " 'Perfect',\n",
              " 'Vegas',\n",
              " 'This',\n",
              " 'Thai',\n",
              " 'Thai',\n",
              " 'Crema',\n",
              " 'North',\n",
              " 'Bloody',\n",
              " 'Pho',\n",
              " 'Caesar',\n",
              " 'Macarons',\n",
              " 'Very',\n",
              " 'Disappointed',\n",
              " 'Big',\n",
              " 'Bay',\n",
              " 'Italian',\n",
              " 'Baba',\n",
              " 'Ganoush',\n",
              " 'Smashburger',\n",
              " 'Panna',\n",
              " 'Cotta',\n",
              " 'Mango',\n",
              " 'Pineapple',\n",
              " 'Delight',\n",
              " 'The',\n",
              " 'Strip',\n",
              " 'Paradise',\n",
              " 'Valley',\n",
              " 'Cibo',\n",
              " 'Thumbs',\n",
              " 'Italian',\n",
              " 'Pros',\n",
              " 'Large',\n",
              " 'Nice',\n",
              " 'Great',\n",
              " 'The',\n",
              " 'Elk',\n",
              " 'Filet',\n",
              " 'Dylan',\n",
              " 'All',\n",
              " 'Han',\n",
              " 'Nan',\n",
              " 'Chicken',\n",
              " 'Bar',\n",
              " 'Edinburgh',\n",
              " 'Chinese',\n",
              " 'Indian',\n",
              " 'Chinese',\n",
              " 'Prices',\n",
              " 'Phoenix',\n",
              " 'Both',\n",
              " 'Hot',\n",
              " 'Sour',\n",
              " 'Egg',\n",
              " 'Flower',\n",
              " 'Soups',\n",
              " 'Sunday',\n",
              " 'Hunan',\n",
              " 'The',\n",
              " 'Pita',\n",
              " 'Wienerschnitzel',\n",
              " 'Maine',\n",
              " 'Lobster',\n",
              " 'Roll',\n",
              " 'Kabuki',\n",
              " 'Maria',\n",
              " 'Wife',\n",
              " 'To',\n",
              " 'Place',\n",
              " 'Japanese',\n",
              " 'Albondigas',\n",
              " 'Mediterranean',\n",
              " 'Chicken',\n",
              " 'Salad',\n",
              " 'Mellow',\n",
              " 'Thai',\n",
              " 'Vegas',\n",
              " 'Buffet',\n",
              " 'Bellagio',\n",
              " 'Vegas',\n",
              " 'Christmas',\n",
              " 'Eve',\n",
              " 'Vegetarian',\n",
              " 'Taco',\n",
              " 'Heimer',\n",
              " 'Ha',\n",
              " 'Long',\n",
              " 'Bay',\n",
              " 'Subway',\n",
              " 'When',\n",
              " 'In',\n",
              " 'Ninja',\n",
              " 'Sushi']"
            ]
          },
          "execution_count": 485,
          "metadata": {},
          "output_type": "execute_result"
        }
      ],
      "source": [
        "[words for sentences in docs1 for words in sentences.split()[1:] if re.search('^[A-Z]+[a-z]+$', words)]"
      ]
    },
    {
      "cell_type": "code",
      "execution_count": 486,
      "metadata": {
        "colab": {
          "base_uri": "https://localhost:8080/"
        },
        "id": "dLPTRPnTMqqx",
        "outputId": "86b1c4ca-6327-47f7-de98-385a255dc4ab"
      },
      "outputs": [
        {
          "data": {
            "text/plain": [
              "192"
            ]
          },
          "execution_count": 486,
          "metadata": {},
          "output_type": "execute_result"
        }
      ],
      "source": [
        "len([words for sentences in docs1 for words in sentences.split()[1:] if re.search('^[A-Z]+[a-z]+$', words)])"
      ]
    },
    {
      "cell_type": "markdown",
      "metadata": {
        "id": "u7nfm4KhMrNW"
      },
      "source": [
        "*   **Pregunta 11.**  \n",
        "\n",
        "Busca e imprime la secuencia de dos o más palabras que están separadas por un guion, \"-\", sin que tengan espacios en blanco entre ellas.\n",
        "\n",
        "Por ejemplo \"Go-Kart\" sería válido, pero \"Go  -Kart\" o \"Go  -  Kart\" no lo serían. \n",
        "\n",
        "Indica la cantidad de resultados obtenidos."
      ]
    },
    {
      "cell_type": "code",
      "execution_count": 487,
      "metadata": {
        "colab": {
          "base_uri": "https://localhost:8080/"
        },
        "id": "OwU-a7eGMsub",
        "outputId": "74cedf98-1953-4158-d5ff-8216b9a19349"
      },
      "outputs": [
        {
          "data": {
            "text/plain": [
              "['flat-lined',\n",
              " 'hands-down',\n",
              " 'must-stop',\n",
              " 'sub-par',\n",
              " 'Service-check!',\n",
              " 'in-house!',\n",
              " 'been-stepped-in-and-tracked-everywhere',\n",
              " 'multi-grain',\n",
              " 'to-go',\n",
              " 'non-customer',\n",
              " 'High-quality',\n",
              " 'sit-down',\n",
              " 'over-whelm',\n",
              " 'low-key,',\n",
              " 'non-fancy,',\n",
              " 'golden-crispy',\n",
              " 'over-priced,',\n",
              " 'over-hip',\n",
              " 'under-services.\"']"
            ]
          },
          "execution_count": 487,
          "metadata": {},
          "output_type": "execute_result"
        }
      ],
      "source": [
        "[words for sentences in docs1 for words in sentences.split() if re.search('^[A-Za-z]+-+[A-Za-z]', words)]"
      ]
    },
    {
      "cell_type": "code",
      "execution_count": 488,
      "metadata": {
        "colab": {
          "base_uri": "https://localhost:8080/"
        },
        "id": "SgzIL74ZMtGw",
        "outputId": "39325b54-d986-43f1-86a6-c2ec44c4271b"
      },
      "outputs": [
        {
          "data": {
            "text/plain": [
              "19"
            ]
          },
          "execution_count": 488,
          "metadata": {},
          "output_type": "execute_result"
        }
      ],
      "source": [
        "len([words for sentences in docs1 for words in sentences.split() if re.search('^[A-Za-z]+-+[A-Za-z]', words)])"
      ]
    },
    {
      "cell_type": "markdown",
      "metadata": {
        "id": "DEIgl79HMthr"
      },
      "source": [
        "*   **Pregunta 12.**  \n",
        "\n",
        "Busca e imprime todas las palabras que terminan en \"ing\" o \"ed\". \n",
        "\n",
        "Indica la cantidad de palabras que encontraste de cada una."
      ]
    },
    {
      "cell_type": "code",
      "execution_count": 489,
      "metadata": {
        "colab": {
          "base_uri": "https://localhost:8080/"
        },
        "id": "I4TSofBMMv9y",
        "outputId": "c5c5b8a7-2ac9-4077-f7b1-6db0099d14a3"
      },
      "outputs": [
        {
          "data": {
            "text/plain": [
              "['Loved',\n",
              " 'Stopped',\n",
              " 'during',\n",
              " 'loved',\n",
              " 'getting',\n",
              " 'being',\n",
              " 'ended',\n",
              " 'being',\n",
              " 'tried',\n",
              " 'disgusted',\n",
              " 'shocked',\n",
              " 'red',\n",
              " 'asked',\n",
              " 'running',\n",
              " 'redeeming',\n",
              " 'grossed',\n",
              " 'melted',\n",
              " 'getting',\n",
              " 'provided',\n",
              " 'thing',\n",
              " 'cooked',\n",
              " 'dressing',\n",
              " 'ordered',\n",
              " 'running',\n",
              " 'realized',\n",
              " '\"Loved',\n",
              " 'flat-lined',\n",
              " 'ripped',\n",
              " 'petrified',\n",
              " 'amazing',\n",
              " 'included',\n",
              " 'nothing',\n",
              " 'appalling',\n",
              " 'seasoned',\n",
              " 'cheated',\n",
              " 'wasting',\n",
              " 'eating',\n",
              " 'going',\n",
              " 'Coming',\n",
              " 'experiencing',\n",
              " 'underwhelming',\n",
              " 'walked',\n",
              " 'smelled',\n",
              " 'raving',\n",
              " 'tailored',\n",
              " 'spring',\n",
              " 'Everything',\n",
              " 'disappointing',\n",
              " 'dining',\n",
              " 'flirting',\n",
              " 'arrived',\n",
              " 'roasted',\n",
              " 'added',\n",
              " 'thing',\n",
              " 'cooked',\n",
              " 'passed',\n",
              " 'ordering',\n",
              " 'liked',\n",
              " 'managed',\n",
              " 'served',\n",
              " 'preparing',\n",
              " 'loving',\n",
              " 'liking',\n",
              " 'venturing',\n",
              " 'overpriced',\n",
              " 'including',\n",
              " 'during',\n",
              " 'checked',\n",
              " 'disappointed',\n",
              " 'red',\n",
              " 'going',\n",
              " 'considering',\n",
              " 'served',\n",
              " 'coming',\n",
              " 'watched',\n",
              " 'greeted',\n",
              " 'seated',\n",
              " 'waited',\n",
              " 'ordered',\n",
              " 'going',\n",
              " 'everything',\n",
              " 'ordered',\n",
              " 'relocated',\n",
              " 'seated',\n",
              " 'looking',\n",
              " 'treated',\n",
              " 'ordered',\n",
              " 'dressing',\n",
              " 'dining',\n",
              " 'used',\n",
              " 'handed',\n",
              " 'missed',\n",
              " 'Everything',\n",
              " 'thrilled',\n",
              " 'amazing',\n",
              " 'judging',\n",
              " 'inspired',\n",
              " 'maintaining',\n",
              " 'asking',\n",
              " 'overcooked',\n",
              " 'decided',\n",
              " 'looked',\n",
              " 'having',\n",
              " 'dressed',\n",
              " 'treated',\n",
              " 'something',\n",
              " 'lacking',\n",
              " 'ordered',\n",
              " 'expected',\n",
              " 'sucked',\n",
              " 'Interesting',\n",
              " 'served',\n",
              " 'preparing',\n",
              " 'feeling',\n",
              " 'voted',\n",
              " 'insulted',\n",
              " 'exceeding',\n",
              " 'dreamed',\n",
              " 'lived',\n",
              " 'stepped',\n",
              " 'mixed',\n",
              " 'showed',\n",
              " 'climbing',\n",
              " 'waiting',\n",
              " 'realized',\n",
              " 'coming',\n",
              " 'loved',\n",
              " 'being',\n",
              " 'needed',\n",
              " 'going',\n",
              " 'loved',\n",
              " 'wrapped',\n",
              " 'dealing',\n",
              " 'worst/annoying',\n",
              " '\"Ordered',\n",
              " 'falling',\n",
              " 'sporting',\n",
              " 'covered',\n",
              " 'supposed',\n",
              " 'rolled',\n",
              " 'providing',\n",
              " 'building',\n",
              " 'lighting',\n",
              " 'Based',\n",
              " 'received',\n",
              " 'going',\n",
              " 'nothing',\n",
              " 'privileged',\n",
              " 'working/eating',\n",
              " 'dressing',\n",
              " 'being',\n",
              " 'charged',\n",
              " 'visited',\n",
              " 'proclaimed',\n",
              " '\"Stopped',\n",
              " 'dedicated',\n",
              " 'liked',\n",
              " 'getting',\n",
              " 'waited',\n",
              " 'burned',\n",
              " 'waited',\n",
              " 'disappointed',\n",
              " 'Waited',\n",
              " 'disappointed',\n",
              " 'pulled',\n",
              " 'prepared',\n",
              " 'rating',\n",
              " 'eating',\n",
              " 'writing',\n",
              " 'everything',\n",
              " 'dining',\n",
              " 'fried',\n",
              " 'passed',\n",
              " 'charming',\n",
              " 'ordered',\n",
              " 'toasted',\n",
              " 'going',\n",
              " 'figured',\n",
              " 'making',\n",
              " 'pricing',\n",
              " 'considering',\n",
              " 'returned',\n",
              " 'amazing',\n",
              " 'eyed',\n",
              " 'pleased',\n",
              " 'Everything',\n",
              " 'replenished',\n",
              " 'nothing',\n",
              " 'nothing',\n",
              " 'driving',\n",
              " 'treated',\n",
              " 'during',\n",
              " 'evening',\n",
              " 'offered',\n",
              " 'Outstanding',\n",
              " 'handling',\n",
              " 'wasting',\n",
              " 'craving',\n",
              " 'dropped',\n",
              " 'dining',\n",
              " 'decorated',\n",
              " 'interesting',\n",
              " 'being',\n",
              " 'served',\n",
              " 'outshining',\n",
              " 'coming',\n",
              " 'walked',\n",
              " 'stuffed',\n",
              " 'considering',\n",
              " 'located',\n",
              " 'shopping',\n",
              " 'nothing',\n",
              " 'Cooked',\n",
              " 'disappointed',\n",
              " 'getting',\n",
              " 'iced',\n",
              " 'trying',\n",
              " 'grossed',\n",
              " 'enjoyed',\n",
              " 'eating',\n",
              " 'going',\n",
              " 'looked',\n",
              " 'overwhelmed',\n",
              " 'stayed',\n",
              " 'me...everything',\n",
              " 'tried',\n",
              " 'loved',\n",
              " 'Ordered',\n",
              " 'Nothing',\n",
              " 'cooked',\n",
              " 'going',\n",
              " 'contained',\n",
              " 'enjoyed',\n",
              " 'relaxed',\n",
              " 'loved',\n",
              " 'outstanding',\n",
              " 'running',\n",
              " 'forgetting',\n",
              " 'trimmed',\n",
              " 'claimed',\n",
              " 'handled',\n",
              " 'asked',\n",
              " 'eating',\n",
              " 'bring',\n",
              " 'hoping',\n",
              " 'living',\n",
              " 'limited',\n",
              " 'boiled',\n",
              " 'dining',\n",
              " 'liked',\n",
              " 'sliced',\n",
              " 'attached',\n",
              " 'humiliated',\n",
              " 'filling',\n",
              " 'fried',\n",
              " 'impressed',\n",
              " 'priced',\n",
              " 'Everything',\n",
              " 'thing',\n",
              " 'need',\n",
              " 'Everything',\n",
              " 'need',\n",
              " 'experienced',\n",
              " 'amazing',\n",
              " 'amazing',\n",
              " 'waited',\n",
              " 'seated',\n",
              " 'going',\n",
              " 'going',\n",
              " 'dining',\n",
              " 'decided',\n",
              " 'pleased',\n",
              " 'saving',\n",
              " 'something',\n",
              " 'trying',\n",
              " 'hankering',\n",
              " 'recommended',\n",
              " 'being',\n",
              " 'witnessed',\n",
              " 'Waited',\n",
              " 'waited',\n",
              " 'checked',\n",
              " 'tasted',\n",
              " 'being',\n",
              " 'served',\n",
              " 'pulled',\n",
              " 'waited',\n",
              " 'being',\n",
              " 'perpared',\n",
              " 'dusted',\n",
              " 'powdered',\n",
              " 'enjoyed',\n",
              " 'sitting',\n",
              " 'ended',\n",
              " 'waiting',\n",
              " 'satisfying',\n",
              " 'wanted',\n",
              " 'eating',\n",
              " 'need',\n",
              " 'being',\n",
              " 'freaking',\n",
              " 'checked',\n",
              " 'reheated',\n",
              " 'getting',\n",
              " 'tasted',\n",
              " 'grilled',\n",
              " 'going',\n",
              " 'focused',\n",
              " 'roasted',\n",
              " 'asked',\n",
              " 'being',\n",
              " 'ignored',\n",
              " 'bring',\n",
              " 'letting',\n",
              " 'tasted',\n",
              " 'Ordered',\n",
              " 'greeted',\n",
              " 'Tried',\n",
              " 'waiting',\n",
              " 'being',\n",
              " 'eating',\n",
              " 'going',\n",
              " 'Disappointed',\n",
              " 'ordered',\n",
              " 'seating',\n",
              " 'fried',\n",
              " 'playing',\n",
              " 'amazing',\n",
              " 'staying',\n",
              " 'used',\n",
              " 'giving',\n",
              " 'talking',\n",
              " 'drenched',\n",
              " 'tried',\n",
              " 'walked',\n",
              " 'expected',\n",
              " 'filling',\n",
              " 'dripping',\n",
              " 'impressed',\n",
              " 'going',\n",
              " 'serving',\n",
              " 'refrained',\n",
              " 'recommending',\n",
              " 'reading',\n",
              " 'loved',\n",
              " 'grilled',\n",
              " 'reminded',\n",
              " 'seating',\n",
              " 'ordered',\n",
              " 'going',\n",
              " 'disappointed',\n",
              " 'seasoned',\n",
              " 'thing',\n",
              " 'added',\n",
              " 'sitting',\n",
              " 'waiting',\n",
              " 'bring',\n",
              " 'coming',\n",
              " 'touched',\n",
              " 'anything',\n",
              " 'opened',\n",
              " 'feeling',\n",
              " 'during',\n",
              " 'watched',\n",
              " 'thing',\n",
              " 'being',\n",
              " 'Tasted',\n",
              " 'being',\n",
              " 'ordered',\n",
              " 'satifying',\n",
              " 'describing',\n",
              " 'coming',\n",
              " 'everything',\n",
              " 'received',\n",
              " 'Paying',\n",
              " 'going',\n",
              " 'impressed',\n",
              " 'cooked',\n",
              " 'needed',\n",
              " 'served',\n",
              " 'thing',\n",
              " 'amazing',\n",
              " 'getting',\n",
              " 'opposed',\n",
              " 'cramming',\n",
              " 'surprised',\n",
              " 'considering',\n",
              " 'focused',\n",
              " 'overpriced',\n",
              " 'fucking',\n",
              " 'tried',\n",
              " 'enjoyed',\n",
              " 'going',\n",
              " 'qualified',\n",
              " 'hated',\n",
              " 'getting',\n",
              " 'coming',\n",
              " 'watched',\n",
              " 'gloves.Everything',\n",
              " 'fried',\n",
              " 'dealing',\n",
              " 'everything',\n",
              " 'tried',\n",
              " 'something',\n",
              " 'during',\n",
              " 'helped',\n",
              " 'dining',\n",
              " 'cooking',\n",
              " 'dining',\n",
              " 'started',\n",
              " 'editing',\n",
              " 'highlighted',\n",
              " 'used',\n",
              " 'amazing',\n",
              " 'enjoyed',\n",
              " 'ordered',\n",
              " 'tasted',\n",
              " 'asked',\n",
              " 'refused',\n",
              " 'tried',\n",
              " 'rotating',\n",
              " 'Pricing',\n",
              " 'toasted',\n",
              " 'satisfying',\n",
              " 'disappointing',\n",
              " 'unexperienced',\n",
              " 'running',\n",
              " 'insulted',\n",
              " 'being',\n",
              " 'impressed',\n",
              " 'thing',\n",
              " 'nothing',\n",
              " 'poisoning',\n",
              " 'thinking',\n",
              " 'something',\n",
              " 'going',\n",
              " 'caring',\n",
              " 'bring',\n",
              " 'asked',\n",
              " 'Disappointing',\n",
              " 'rated',\n",
              " 'going',\n",
              " 'lacked',\n",
              " 'coming',\n",
              " 'sliced',\n",
              " 'pulled',\n",
              " 'building',\n",
              " 'seating',\n",
              " 'dipping',\n",
              " 'seemed',\n",
              " 'watered',\n",
              " 'lacked',\n",
              " 'drinking',\n",
              " 'serving',\n",
              " 'disappointed',\n",
              " 'placed',\n",
              " 'avoided',\n",
              " 'received',\n",
              " 'wanted',\n",
              " 'doing',\n",
              " 'happened',\n",
              " 'wanted',\n",
              " 'Overpriced',\n",
              " 'vomited',\n",
              " 'looking',\n",
              " 'started',\n",
              " 'coming',\n",
              " 'unwrapped',\n",
              " 'lacked',\n",
              " 'seemed',\n",
              " 'closed',\n",
              " 'staying',\n",
              " 'refried',\n",
              " 'dried',\n",
              " 'disappointed',\n",
              " 'impressed',\n",
              " 'wasted',\n",
              " 'poured',\n",
              " 'drawing',\n",
              " 'bring']"
            ]
          },
          "execution_count": 489,
          "metadata": {},
          "output_type": "execute_result"
        }
      ],
      "source": [
        "[words for sentences in docs1 for words in sentences.split() if re.search('ing$', words) or re.search('ed$', words)]"
      ]
    },
    {
      "cell_type": "code",
      "execution_count": 490,
      "metadata": {
        "colab": {
          "base_uri": "https://localhost:8080/"
        },
        "id": "AhGq6De2Mvyh",
        "outputId": "6e7d0405-1947-4dc5-af6e-f597e406c64b"
      },
      "outputs": [
        {
          "data": {
            "text/plain": [
              "480"
            ]
          },
          "execution_count": 490,
          "metadata": {},
          "output_type": "execute_result"
        }
      ],
      "source": [
        "len([words for sentences in docs1 for words in sentences.split() if re.search('ing$', words) or re.search('ed$', words)])"
      ]
    },
    {
      "cell_type": "markdown",
      "metadata": {
        "id": "70StdqAZa9E9"
      },
      "source": [
        "#**Parte 3. Proceso de limpieza.**"
      ]
    },
    {
      "cell_type": "markdown",
      "metadata": {
        "id": "xaDUFXHrMvX2"
      },
      "source": [
        "*   **Pregunta 13.**  \n",
        "\n",
        "Ahora realiza un proceso de limpieza del corpus que incluya los siguientes procesos:\n",
        "\n",
        "*   Solo se deben considerar caracteres alfabéticos. Es decir, se eliminan todos los signos de puntuación y caracteres especiales.\n",
        "*   Todos los caracteres alfabéticos se transforman a minúsculas.\n",
        "*   Se deben eliminar todos los espacios en blanco adicionales que se puedan encontrar en cada comentario.\n",
        "\n",
        "Al finalizar dicho proceso de limpieza, imprime el resultado de los primeros 10 comentarios resultantes. \n",
        "   \n",
        "\n",
        "\n"
      ]
    },
    {
      "cell_type": "code",
      "execution_count": 491,
      "metadata": {
        "id": "K3kQzPOPMx0w"
      },
      "outputs": [],
      "source": [
        "def remove_punctuation(sentence):\n",
        "  for word in sentence:\n",
        "    if word in signs:\n",
        "      sentence = sentence.replace(word, \"\")\n",
        "  return sentence\n",
        "\n",
        "def to_lower(sentence):\n",
        "  return sentence.lower()\n",
        "\n",
        "def remove_extra_space(sentence):\n",
        "  if re.search(' +', sentence):\n",
        "    sentence = re.sub(' +', \" \", sentence)\n",
        "  return sentence"
      ]
    },
    {
      "cell_type": "code",
      "execution_count": 492,
      "metadata": {
        "id": "mYEDlHSFMyJN"
      },
      "outputs": [],
      "source": [
        "docs1 = list(map(remove_punctuation, [sentences for sentences in docs1])) # remove punctuation cleaning"
      ]
    },
    {
      "cell_type": "code",
      "execution_count": 493,
      "metadata": {
        "id": "7aSo2_P-CTI6"
      },
      "outputs": [],
      "source": [
        "docs1 = list(map(to_lower, [sentences for sentences in docs1])) # lower all characters"
      ]
    },
    {
      "cell_type": "code",
      "execution_count": 494,
      "metadata": {
        "id": "b8Z5u5ByCvFN"
      },
      "outputs": [],
      "source": [
        "docs1 = list(map(remove_extra_space, [sentences for sentences in docs1])) # remove extra whitespace"
      ]
    },
    {
      "cell_type": "code",
      "execution_count": 495,
      "metadata": {
        "colab": {
          "base_uri": "https://localhost:8080/"
        },
        "id": "hKy_cG1BjEqR",
        "outputId": "d775fd72-fd49-47b8-e900-5dfb37d3cc4d"
      },
      "outputs": [
        {
          "data": {
            "text/plain": [
              "['wow loved this place',\n",
              " 'crust is not good',\n",
              " 'not tasty and the texture was just nasty',\n",
              " 'stopped by during the late may bank holiday off rick steve recommendation and loved it',\n",
              " 'the selection on the menu was great and so were the prices',\n",
              " 'now i am getting angry and i want my damn pho',\n",
              " 'honeslty it didnt taste that fresh',\n",
              " 'the potatoes were like rubber and you could tell they had been made up ahead of time being kept under a warmer',\n",
              " 'the fries were great too',\n",
              " 'a great touch']"
            ]
          },
          "execution_count": 495,
          "metadata": {},
          "output_type": "execute_result"
        }
      ],
      "source": [
        "docs1[:10]"
      ]
    },
    {
      "cell_type": "markdown",
      "metadata": {
        "id": "WZwEhg2lUSAX"
      },
      "source": [
        "*   **Pregunta 14.**  \n",
        "\n",
        "Con el resultado de la limpieza obtenido en la pregunta anterior, realiza ahora un proceso de tokenización por palabras del corpus. \n",
        "\n",
        "Es decir, al final de este proceso de tokenización, debes tener como resultado una lista de listas, donde cada comentario estará tokenizado por palabras.\n",
        "\n",
        "Al terminar calcula el total de tokens obtenido en todo el corpus. "
      ]
    },
    {
      "cell_type": "code",
      "execution_count": 496,
      "metadata": {
        "id": "kbAL9-v0V-jx"
      },
      "outputs": [],
      "source": [
        "tokens = [sentences.split() for sentences in docs1]"
      ]
    },
    {
      "cell_type": "code",
      "execution_count": 497,
      "metadata": {
        "colab": {
          "base_uri": "https://localhost:8080/"
        },
        "id": "DZs_etmiV-fd",
        "outputId": "b0ff8475-d4ab-4318-aa91-d0f2f947550d"
      },
      "outputs": [
        {
          "data": {
            "text/plain": [
              "10859"
            ]
          },
          "execution_count": 497,
          "metadata": {},
          "output_type": "execute_result"
        }
      ],
      "source": [
        "len([token for sentences in tokens for token in sentences]) # total number of tokens"
      ]
    },
    {
      "cell_type": "code",
      "execution_count": 498,
      "metadata": {
        "colab": {
          "base_uri": "https://localhost:8080/"
        },
        "id": "K42ABL-hmT2P",
        "outputId": "4bcd4093-8bbb-4c04-da33-2b1ca06c0006"
      },
      "outputs": [
        {
          "data": {
            "text/plain": [
              "[['wow', 'loved', 'this', 'place'],\n",
              " ['crust', 'is', 'not', 'good'],\n",
              " ['not', 'tasty', 'and', 'the', 'texture', 'was', 'just', 'nasty']]"
            ]
          },
          "execution_count": 498,
          "metadata": {},
          "output_type": "execute_result"
        }
      ],
      "source": [
        "tokens[:3]"
      ]
    },
    {
      "cell_type": "markdown",
      "metadata": {
        "id": "EFeu0OJ7WDPD"
      },
      "source": [
        "*   **Pregunta 15.**  \n",
        "\n",
        "Finalmente, en este ejercicio definiremos nuestro conjunto de palabras \"stopwords\", las cuales deberás eliminar de todo el corpus. \n",
        "\n",
        "Recuerda que ejemplos de stopwords son artículos, adverbios, conectivos, etcétera, que tienen frecuencias de aparición muy altas en cualquier documento, pero que no brindan mucho significado en cuanto al significado de un enunciado.\n",
        "\n",
        "Con base a la lista de stopwords que se te proporciona, realiza un proceso de limpieza eliminando todas estas palabras del corpus obtenido en el ejercicio anterior.\n",
        "\n",
        "Obtener cuántos tokens/palabras quedan finalmente en todo el corpus.\n",
        "\n",
        "Obtener cuántos de estos tokens/palabras son diferentes, es decir, cuántos tokens únicos tendrá lo que llamaremos más adelante nuestro vocabulario."
      ]
    },
    {
      "cell_type": "code",
      "execution_count": 499,
      "metadata": {
        "id": "6FP4FF3KXGxm"
      },
      "outputs": [],
      "source": [
        "# Considera la siguiente lista como tu conjunto de stopwords:\n",
        "mis_stopwords = ['i', 'me', 'my', 'myself', 'we', 'our', 'ours', 'ourselves', 'you', 'your', 'yours', 'he', 'him', 'his', 'himself', 'she', 'her', 'hers', 'herself', 'it', 'its', 'itself', 'they', 'them', 'their', 'theirs', 'themselves', 'what', 'which', 'who', 'whom', 'this', 'that', 'these', 'those', 'am', 'is', 'are', 'was', 'were', 'be', 'been', 'being', 'have', 'has', 'had', 'having', 'do', 'does', 'did', 'doing', 'a', 'an', 'the', 'and', 'but', 'if', 'or', 'because', 'as', 'until', 'while', 'of', 'at', 'by', 'for', 'with', 'about', 'against', 'between', 'into', 'through', 'during', 'before', 'after', 'above', 'below', 'to', 'from', 'up', 'down', 'in', 'out', 'on', 'over', 'under', 'again', 'further', 'then', 'once', 'here', 'there', 'when', 'where', 'why', 'how', 'all', 'any', 'both', 'each', 'few', 'more', 'most', 'other', 'some', 'such', 'only', 'own', 'same', 'so', 'than', 'too', 'very', 's', 't', 'can', 'will', 'just', 'should', 'now', 'll']"
      ]
    },
    {
      "cell_type": "code",
      "execution_count": 500,
      "metadata": {
        "id": "PK-SgUUpsjgY"
      },
      "outputs": [],
      "source": [
        "def stopword_trimmer(sentence):\n",
        "  new_tokens = []\n",
        "  for words in sentence.split():\n",
        "    if words not in mis_stopwords:\n",
        "      new_tokens.append(words)\n",
        "  return new_tokens"
      ]
    },
    {
      "cell_type": "code",
      "execution_count": 501,
      "metadata": {
        "id": "CD8yjyq1ZrwY"
      },
      "outputs": [],
      "source": [
        "tokens = list(map(stopword_trimmer, [sentences for sentences in docs1]))"
      ]
    },
    {
      "cell_type": "code",
      "execution_count": 502,
      "metadata": {
        "colab": {
          "base_uri": "https://localhost:8080/"
        },
        "id": "4ZPi5prKZro5",
        "outputId": "e9030955-f2f3-4284-db68-394ad89d3768"
      },
      "outputs": [
        {
          "data": {
            "text/plain": [
              "5859"
            ]
          },
          "execution_count": 502,
          "metadata": {},
          "output_type": "execute_result"
        }
      ],
      "source": [
        "len([token for sentences in tokens for token in sentences]) # number of tokens after removing stopwords"
      ]
    },
    {
      "cell_type": "code",
      "execution_count": 503,
      "metadata": {
        "colab": {
          "base_uri": "https://localhost:8080/"
        },
        "id": "ZEtUgbiSuePU",
        "outputId": "81bd87a1-17b8-496d-d6cb-6183e4644f93"
      },
      "outputs": [
        {
          "data": {
            "text/plain": [
              "1979"
            ]
          },
          "execution_count": 503,
          "metadata": {},
          "output_type": "execute_result"
        }
      ],
      "source": [
        "list_buffer = [token for sentences in tokens for token in sentences]\n",
        "hash = set(list_buffer)\n",
        "len(hash) # number of different tokens"
      ]
    },
    {
      "cell_type": "markdown",
      "metadata": {
        "id": "NDbKkuxRbLoX"
      },
      "source": [
        "*   **Comentarios**\n",
        "\n",
        "Incluye finalmente tus comentarios de la actividad."
      ]
    },
    {
      "cell_type": "markdown",
      "metadata": {
        "id": "o7fzbvqVbUGr"
      },
      "source": [
        "Creo que esta actividad fue interesante debido a las diferentes manipulaciones que se pueden realizar con el corpus para un analisis de procesameinto de lenguaje. Creo que es un buen inicio de lo que se ira viendo en el curso."
      ]
    },
    {
      "cell_type": "markdown",
      "metadata": {
        "id": "PHaKw_6Ldbaf"
      },
      "source": [
        "##**Fin de la Actividad de la semana 2.**"
      ]
    }
  ],
  "metadata": {
    "colab": {
      "provenance": []
    },
    "kernelspec": {
      "display_name": "Python 3",
      "name": "python3"
    },
    "language_info": {
      "name": "python",
      "version": "3.8.13"
    }
  },
  "nbformat": 4,
  "nbformat_minor": 0
}
